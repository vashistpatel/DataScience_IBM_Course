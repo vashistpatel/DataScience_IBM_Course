{
 "cells": [
  {
   "cell_type": "markdown",
   "id": "91f4a976-320f-4036-b4e1-b96e78cb608b",
   "metadata": {},
   "source": [
    "# Data Sceince Tools and Ecosystem"
   ]
  },
  {
   "cell_type": "markdown",
   "id": "b81ec28a-c903-46fc-9651-84c1ed5ea74b",
   "metadata": {},
   "source": [
    "##### In this notebook, Data Science Tools and Ecosystem are summarized. "
   ]
  },
  {
   "cell_type": "markdown",
   "id": "2a7a9b6e-0137-42b3-8069-e4fd05ac35d1",
   "metadata": {},
   "source": [
    "#### **Objectives**\n",
    "- listed popular data sceince languages\n",
    "- listed popular data sceince libraries\n",
    "- created code & markdown cells "
   ]
  },
  {
   "cell_type": "markdown",
   "id": "03e013bb-ec00-444b-97d9-7a0684302d33",
   "metadata": {},
   "source": [
    "### Some of the popular languages that Data Scientists use are:\n",
    "1. Python\n",
    "2. R\n",
    "3. SQL\n",
    "4. C\n",
    "4. C++"
   ]
  },
  {
   "cell_type": "markdown",
   "id": "8cd5d764-6903-4a70-b314-1d837a7728b5",
   "metadata": {},
   "source": [
    "### Some of the commonly used libraries used by Data Scientists include:\n",
    "1. NumPy\n",
    "2. Pandas\n",
    "3. Matplotlib\n",
    "4. Seaborn\n",
    "4. Cscikit-learn\n",
    "5. Keras\n",
    "6. TensorFlow\n",
    "7. Pytorch\n",
    "8. Apache Spark\n",
    "8. ggplot2"
   ]
  },
  {
   "cell_type": "markdown",
   "id": "b7f1bd74-223b-49f9-a9e4-f6e06dcc9a6d",
   "metadata": {},
   "source": [
    "| Data Science Tools    |\n",
    "| -------- |\n",
    "| Visual Studio  |\n",
    "| RStudio |\n",
    "| GitHub    |"
   ]
  },
  {
   "cell_type": "markdown",
   "id": "c93adc94-b86a-4537-9506-9ced985bd1f0",
   "metadata": {},
   "source": [
    "### Below are a few examples of evaluating arithmetic expressions in Python"
   ]
  },
  {
   "cell_type": "code",
   "execution_count": 2,
   "id": "4d52c742-e380-4b76-bb1e-507c6f62c18f",
   "metadata": {},
   "outputs": [
    {
     "name": "stdout",
     "output_type": "stream",
     "text": [
      "17\n"
     ]
    }
   ],
   "source": [
    "#This a simple arithmetic expression to mutiply then add integers\n",
    "print((3*4)+5)"
   ]
  },
  {
   "cell_type": "code",
   "execution_count": 7,
   "id": "f64d345d-22ad-44eb-8c20-b495a8372cea",
   "metadata": {},
   "outputs": [
    {
     "name": "stdout",
     "output_type": "stream",
     "text": [
      "3.33\n"
     ]
    }
   ],
   "source": [
    "# This will convert 200 minutes to hours by diving by 60\n",
    "minutes = 200\n",
    "hours = minutes / 60\n",
    "print(round(hours,2))"
   ]
  },
  {
   "cell_type": "markdown",
   "id": "a6ceb254-48d4-4157-93a6-3c0dbf2d6849",
   "metadata": {},
   "source": [
    "## Author\n",
    "Vashist Patel"
   ]
  },
  {
   "cell_type": "code",
   "execution_count": null,
   "id": "e48366e6-64e5-4905-881c-030aaf70e8fe",
   "metadata": {},
   "outputs": [],
   "source": []
  }
 ],
 "metadata": {
  "kernelspec": {
   "display_name": "Python 3 (ipykernel)",
   "language": "python",
   "name": "python3"
  },
  "language_info": {
   "codemirror_mode": {
    "name": "ipython",
    "version": 3
   },
   "file_extension": ".py",
   "mimetype": "text/x-python",
   "name": "python",
   "nbconvert_exporter": "python",
   "pygments_lexer": "ipython3",
   "version": "3.9.12"
  }
 },
 "nbformat": 4,
 "nbformat_minor": 5
}
